{
 "cells": [
  {
   "cell_type": "code",
   "execution_count": 59,
   "metadata": {},
   "outputs": [
    {
     "name": "stderr",
     "output_type": "stream",
     "text": [
      "C:\\Users\\sudha\\AppData\\Local\\Temp\\ipykernel_12328\\2060205937.py:5: DtypeWarning: Columns (15) have mixed types. Specify dtype option on import or set low_memory=False.\n",
      "  df_station_hourly = pd.read_csv(\"dataset/station_hour.csv\")\n"
     ]
    }
   ],
   "source": [
    "import pandas as pd\n",
    "\n",
    "df_city_hourly = pd.read_csv(\"dataset/city_hour.csv\")\n",
    "df_city_daily = pd.read_csv(\"dataset/city_day.csv\")\n",
    "df_station_hourly = pd.read_csv(\"dataset/station_hour.csv\")\n",
    "df_station_daily = pd.read_csv(\"dataset/station_day.csv\")"
   ]
  },
  {
   "cell_type": "code",
   "execution_count": 60,
   "metadata": {},
   "outputs": [],
   "source": [
    "df_city_hourly_list = \"City,Datetime,PM2.5,PM10,NO,NO2,NOx,NH3,CO,SO2,O3,Benzene,Toluene,Xylene,AQI,AQI_Bucket\"\n",
    "df_city_daily_list = \"City,Date,PM2.5,PM10,NO,NO2,NOx,NH3,CO,SO2,O3,Benzene,Toluene,Xylene,AQI,AQI_Bucket\"\n",
    "df_station_hourly_list = \"StationId,Datetime,PM2.5,PM10,NO,NO2,NOx,NH3,CO,SO2,O3,Benzene,Toluene,Xylene,AQI,AQI_Bucket\"\n",
    "df_station_daily_list = \"StationId,Date,PM2.5,PM10,NO,NO2,NOx,NH3,CO,SO2,O3,Benzene,Toluene,Xylene,AQI,AQI_Bucket\""
   ]
  },
  {
   "cell_type": "code",
   "execution_count": 61,
   "metadata": {},
   "outputs": [],
   "source": [
    "df_city_hourly = df_city_hourly.drop(columns=[ 'NH3','City','Datetime','Toluene', 'Xylene', 'AQI_Bucket'], axis=1)\n",
    "df_city_daily = df_city_daily.drop(columns=[ 'NH3','City','Date','Toluene', 'Xylene', 'AQI_Bucket'], axis=1)\n",
    "df_station_hourly  = df_station_hourly.drop(columns=[ 'NH3','StationId','Datetime','Toluene', 'Xylene', 'AQI_Bucket'], axis=1)\n",
    "df_station_daily = df_station_daily.drop(columns=[ 'NH3','StationId','Date','Toluene', 'Xylene', 'AQI_Bucket'], axis=1)"
   ]
  },
  {
   "cell_type": "code",
   "execution_count": 62,
   "metadata": {},
   "outputs": [],
   "source": [
    "dfs = [df_city_hourly, df_city_daily, df_station_hourly, df_station_daily]\n",
    "df_merged = pd.concat(dfs, ignore_index=True)"
   ]
  },
  {
   "cell_type": "code",
   "execution_count": 63,
   "metadata": {},
   "outputs": [],
   "source": [
    "columns_to_fill = ['PM2.5','PM10', 'NO', 'NO2', 'NOx', 'CO', 'SO2', 'O3', 'Benzene','AQI']\n",
    "df_merged[columns_to_fill] = df_merged[columns_to_fill].fillna(df_merged[columns_to_fill].mean())"
   ]
  },
  {
   "cell_type": "code",
   "execution_count": 64,
   "metadata": {},
   "outputs": [],
   "source": [
    "import numpy as np\n",
    "import tensorflow as tf\n",
    "from tensorflow import keras\n",
    "from sklearn.model_selection import train_test_split\n",
    "from sklearn.preprocessing import StandardScaler\n",
    "tf.config.run_functions_eagerly(True)"
   ]
  },
  {
   "cell_type": "code",
   "execution_count": 65,
   "metadata": {},
   "outputs": [],
   "source": [
    "df_merged = df_merged.replace([np.inf, -np.inf], np.nan).dropna()"
   ]
  },
  {
   "cell_type": "code",
   "execution_count": 66,
   "metadata": {},
   "outputs": [],
   "source": [
    "# df_merged.reset_index(drop=True, inplace=True)"
   ]
  },
  {
   "cell_type": "code",
   "execution_count": 67,
   "metadata": {},
   "outputs": [],
   "source": [
    "air_quality_features = ['PM2.5','PM10', 'NO', 'NO2', 'NOx', 'CO', 'SO2', 'O3', 'Benzene']\n",
    "X = df_merged['AQI']\n",
    "y = df_merged[air_quality_features]\n"
   ]
  },
  {
   "cell_type": "code",
   "execution_count": 69,
   "metadata": {},
   "outputs": [
    {
     "name": "stdout",
     "output_type": "stream",
     "text": [
      "X_train_scaled stats:\n",
      "Mean: 5.774348170829826e-16\n",
      "Std: 1.0000000000000002\n",
      "Min: -1.3347667549836817\n",
      "Max: 22.930287825928094\n",
      "\n",
      "y_train_scaled stats:\n",
      "Mean: -5.443751430184174e-16\n",
      "Std: 0.9999999999999988\n",
      "Min: -0.6300308950339236\n",
      "Max: 14.426278299713873\n"
     ]
    }
   ],
   "source": [
    "X_train, X_test, y_train, y_test = train_test_split(X, y, test_size=0.2, random_state=42)\n",
    "\n",
    "scaler_X = StandardScaler()\n",
    "X_train_scaled = scaler_X.fit_transform(X_train.to_frame())\n",
    "X_test_scaled = scaler_X.transform(X_test.to_frame())\n",
    "\n",
    "scaler_y = StandardScaler()\n",
    "y_train_scaled = scaler_y.fit_transform(y_train.values.reshape(-1, 1)).flatten()\n",
    "y_test_scaled = scaler_y.transform(y_test.values.reshape(-1, 1)).flatten()\n",
    "\n",
    "print(\"X_train_scaled stats:\")\n",
    "print(\"Mean:\", np.mean(X_train_scaled))\n",
    "print(\"Std:\", np.std(X_train_scaled))\n",
    "print(\"Min:\", np.min(X_train_scaled))\n",
    "print(\"Max:\", np.max(X_train_scaled))\n",
    "\n",
    "print(\"\\ny_train_scaled stats:\")\n",
    "print(\"Mean:\", np.mean(y_train_scaled))\n",
    "print(\"Std:\", np.std(y_train_scaled))\n",
    "print(\"Min:\", np.min(y_train_scaled))\n",
    "print(\"Max:\", np.max(y_train_scaled))"
   ]
  },
  {
   "cell_type": "code",
   "execution_count": 92,
   "metadata": {},
   "outputs": [
    {
     "data": {
      "text/plain": [
       "array([[  4.86      ],\n",
       "       [149.84231157],\n",
       "       [ 11.58      ],\n",
       "       ...,\n",
       "       [ 12.58352847],\n",
       "       [ 37.28961406],\n",
       "       [  3.25695105]])"
      ]
     },
     "execution_count": 92,
     "metadata": {},
     "output_type": "execute_result"
    }
   ],
   "source": [
    "y_train.values.reshape(-1, 1)"
   ]
  },
  {
   "cell_type": "code",
   "execution_count": 84,
   "metadata": {},
   "outputs": [
    {
     "data": {
      "text/plain": [
       "['scaler_y.pkl']"
      ]
     },
     "execution_count": 84,
     "metadata": {},
     "output_type": "execute_result"
    }
   ],
   "source": [
    "import joblib\n",
    "joblib.dump(scaler_X, 'scaler_X.pkl')\n",
    "joblib.dump(scaler_y, 'scaler_y.pkl')"
   ]
  },
  {
   "cell_type": "code",
   "execution_count": 70,
   "metadata": {},
   "outputs": [
    {
     "name": "stderr",
     "output_type": "stream",
     "text": [
      "c:\\GPU_Code\\tf-env\\Lib\\site-packages\\keras\\src\\layers\\core\\dense.py:87: UserWarning: Do not pass an `input_shape`/`input_dim` argument to a layer. When using Sequential models, prefer using an `Input(shape)` object as the first layer in the model instead.\n",
      "  super().__init__(activity_regularizer=activity_regularizer, **kwargs)\n"
     ]
    }
   ],
   "source": [
    "model = tf.keras.Sequential([\n",
    "    tf.keras.layers.Dense(64, activation='relu', input_shape=(X_train_scaled.shape[1],)),\n",
    "    tf.keras.layers.Dense(32, activation='relu'),\n",
    "    tf.keras.layers.Dense(1)\n",
    "])"
   ]
  },
  {
   "cell_type": "code",
   "execution_count": 71,
   "metadata": {},
   "outputs": [],
   "source": [
    "def lr_schedule(epoch):\n",
    "    return 0.001 * 0.9 ** epoch"
   ]
  },
  {
   "cell_type": "code",
   "execution_count": 72,
   "metadata": {},
   "outputs": [],
   "source": [
    "optimizer = keras.optimizers.Adam(learning_rate=0.001)\n",
    "model.compile(optimizer=optimizer, loss='mse', metrics=['mae'])"
   ]
  },
  {
   "cell_type": "code",
   "execution_count": 73,
   "metadata": {},
   "outputs": [
    {
     "name": "stdout",
     "output_type": "stream",
     "text": [
      "Epoch 1/100\n"
     ]
    },
    {
     "name": "stderr",
     "output_type": "stream",
     "text": [
      "c:\\GPU_Code\\tf-env\\Lib\\site-packages\\tensorflow\\python\\data\\ops\\structured_function.py:258: UserWarning: Even though the `tf.config.experimental_run_functions_eagerly` option is set, this option does not apply to tf.data functions. To force eager execution of tf.data functions, please use `tf.data.experimental.enable_debug_mode()`.\n",
      "  warnings.warn(\n"
     ]
    },
    {
     "name": "stdout",
     "output_type": "stream",
     "text": [
      "\u001b[1m68691/68691\u001b[0m \u001b[32m━━━━━━━━━━━━━━━━━━━━\u001b[0m\u001b[37m\u001b[0m \u001b[1m1444s\u001b[0m 21ms/step - loss: 0.9891 - mae: 0.6245 - val_loss: 1.0134 - val_mae: 0.6268 - learning_rate: 0.0010\n",
      "Epoch 2/100\n",
      "\u001b[1m68691/68691\u001b[0m \u001b[32m━━━━━━━━━━━━━━━━━━━━\u001b[0m\u001b[37m\u001b[0m \u001b[1m1362s\u001b[0m 20ms/step - loss: 0.9906 - mae: 0.6241 - val_loss: 1.0134 - val_mae: 0.6287 - learning_rate: 9.0000e-04\n",
      "Epoch 3/100\n",
      "\u001b[1m68691/68691\u001b[0m \u001b[32m━━━━━━━━━━━━━━━━━━━━\u001b[0m\u001b[37m\u001b[0m \u001b[1m1366s\u001b[0m 20ms/step - loss: 0.9930 - mae: 0.6249 - val_loss: 1.0136 - val_mae: 0.6332 - learning_rate: 8.1000e-04\n",
      "Epoch 4/100\n",
      "\u001b[1m68691/68691\u001b[0m \u001b[32m━━━━━━━━━━━━━━━━━━━━\u001b[0m\u001b[37m\u001b[0m \u001b[1m1365s\u001b[0m 20ms/step - loss: 0.9914 - mae: 0.6250 - val_loss: 1.0134 - val_mae: 0.6300 - learning_rate: 7.2900e-04\n",
      "Epoch 5/100\n",
      "\u001b[1m68691/68691\u001b[0m \u001b[32m━━━━━━━━━━━━━━━━━━━━\u001b[0m\u001b[37m\u001b[0m \u001b[1m1368s\u001b[0m 20ms/step - loss: 0.9976 - mae: 0.6257 - val_loss: 1.0137 - val_mae: 0.6201 - learning_rate: 6.5610e-04\n",
      "Epoch 6/100\n",
      "\u001b[1m68691/68691\u001b[0m \u001b[32m━━━━━━━━━━━━━━━━━━━━\u001b[0m\u001b[37m\u001b[0m \u001b[1m1368s\u001b[0m 20ms/step - loss: 0.9886 - mae: 0.6239 - val_loss: 1.0134 - val_mae: 0.6268 - learning_rate: 5.9049e-04\n",
      "Epoch 7/100\n",
      "\u001b[1m68691/68691\u001b[0m \u001b[32m━━━━━━━━━━━━━━━━━━━━\u001b[0m\u001b[37m\u001b[0m \u001b[1m1367s\u001b[0m 20ms/step - loss: 0.9987 - mae: 0.6258 - val_loss: 1.0134 - val_mae: 0.6287 - learning_rate: 5.3144e-04\n",
      "Epoch 8/100\n",
      "\u001b[1m68691/68691\u001b[0m \u001b[32m━━━━━━━━━━━━━━━━━━━━\u001b[0m\u001b[37m\u001b[0m \u001b[1m1364s\u001b[0m 20ms/step - loss: 0.9933 - mae: 0.6256 - val_loss: 1.0135 - val_mae: 0.6241 - learning_rate: 4.7830e-04\n",
      "Epoch 9/100\n",
      "\u001b[1m68691/68691\u001b[0m \u001b[32m━━━━━━━━━━━━━━━━━━━━\u001b[0m\u001b[37m\u001b[0m \u001b[1m1370s\u001b[0m 20ms/step - loss: 0.9919 - mae: 0.6251 - val_loss: 1.0134 - val_mae: 0.6256 - learning_rate: 4.3047e-04\n",
      "Epoch 10/100\n",
      "\u001b[1m68691/68691\u001b[0m \u001b[32m━━━━━━━━━━━━━━━━━━━━\u001b[0m\u001b[37m\u001b[0m \u001b[1m1370s\u001b[0m 20ms/step - loss: 0.9870 - mae: 0.6229 - val_loss: 1.0134 - val_mae: 0.6295 - learning_rate: 3.8742e-04\n",
      "Epoch 11/100\n",
      "\u001b[1m68691/68691\u001b[0m \u001b[32m━━━━━━━━━━━━━━━━━━━━\u001b[0m\u001b[37m\u001b[0m \u001b[1m1375s\u001b[0m 20ms/step - loss: 0.9931 - mae: 0.6242 - val_loss: 1.0135 - val_mae: 0.6243 - learning_rate: 3.4868e-04\n"
     ]
    }
   ],
   "source": [
    "history = model.fit(\n",
    "    X_train_scaled, y_train_scaled,\n",
    "    epochs=100,\n",
    "    batch_size=32,\n",
    "    validation_split=0.2,\n",
    "    callbacks=[\n",
    "        keras.callbacks.EarlyStopping(patience=10, restore_best_weights=True),\n",
    "        keras.callbacks.LearningRateScheduler(lr_schedule)\n",
    "    ],\n",
    "    verbose=1\n",
    ")"
   ]
  },
  {
   "cell_type": "code",
   "execution_count": 74,
   "metadata": {},
   "outputs": [
    {
     "ename": "ValueError",
     "evalue": "Data cardinality is ambiguous. Make sure all arrays contain the same number of samples.'x' sizes: 686905\n'y' sizes: 6182145\n",
     "output_type": "error",
     "traceback": [
      "\u001b[1;31m---------------------------------------------------------------------------\u001b[0m",
      "\u001b[1;31mValueError\u001b[0m                                Traceback (most recent call last)",
      "Cell \u001b[1;32mIn[74], line 1\u001b[0m\n\u001b[1;32m----> 1\u001b[0m loss \u001b[38;5;241m=\u001b[39m \u001b[43mmodel\u001b[49m\u001b[38;5;241;43m.\u001b[39;49m\u001b[43mevaluate\u001b[49m\u001b[43m(\u001b[49m\u001b[43mX_test_scaled\u001b[49m\u001b[43m,\u001b[49m\u001b[43m \u001b[49m\u001b[43my_test_scaled\u001b[49m\u001b[43m)\u001b[49m\n\u001b[0;32m      2\u001b[0m \u001b[38;5;28mprint\u001b[39m(loss)\n",
      "File \u001b[1;32mc:\\GPU_Code\\tf-env\\Lib\\site-packages\\keras\\src\\utils\\traceback_utils.py:122\u001b[0m, in \u001b[0;36mfilter_traceback.<locals>.error_handler\u001b[1;34m(*args, **kwargs)\u001b[0m\n\u001b[0;32m    119\u001b[0m     filtered_tb \u001b[38;5;241m=\u001b[39m _process_traceback_frames(e\u001b[38;5;241m.\u001b[39m__traceback__)\n\u001b[0;32m    120\u001b[0m     \u001b[38;5;66;03m# To get the full stack trace, call:\u001b[39;00m\n\u001b[0;32m    121\u001b[0m     \u001b[38;5;66;03m# `keras.config.disable_traceback_filtering()`\u001b[39;00m\n\u001b[1;32m--> 122\u001b[0m     \u001b[38;5;28;01mraise\u001b[39;00m e\u001b[38;5;241m.\u001b[39mwith_traceback(filtered_tb) \u001b[38;5;28;01mfrom\u001b[39;00m \u001b[38;5;28;01mNone\u001b[39;00m\n\u001b[0;32m    123\u001b[0m \u001b[38;5;28;01mfinally\u001b[39;00m:\n\u001b[0;32m    124\u001b[0m     \u001b[38;5;28;01mdel\u001b[39;00m filtered_tb\n",
      "File \u001b[1;32mc:\\GPU_Code\\tf-env\\Lib\\site-packages\\keras\\src\\trainers\\data_adapters\\data_adapter_utils.py:114\u001b[0m, in \u001b[0;36mcheck_data_cardinality\u001b[1;34m(data)\u001b[0m\n\u001b[0;32m    110\u001b[0m     sizes \u001b[38;5;241m=\u001b[39m \u001b[38;5;124m\"\u001b[39m\u001b[38;5;124m, \u001b[39m\u001b[38;5;124m\"\u001b[39m\u001b[38;5;241m.\u001b[39mjoin(\n\u001b[0;32m    111\u001b[0m         \u001b[38;5;28mstr\u001b[39m(i\u001b[38;5;241m.\u001b[39mshape[\u001b[38;5;241m0\u001b[39m]) \u001b[38;5;28;01mfor\u001b[39;00m i \u001b[38;5;129;01min\u001b[39;00m tree\u001b[38;5;241m.\u001b[39mflatten(single_data)\n\u001b[0;32m    112\u001b[0m     )\n\u001b[0;32m    113\u001b[0m     msg \u001b[38;5;241m+\u001b[39m\u001b[38;5;241m=\u001b[39m \u001b[38;5;124mf\u001b[39m\u001b[38;5;124m\"\u001b[39m\u001b[38;5;124m'\u001b[39m\u001b[38;5;132;01m{\u001b[39;00mlabel\u001b[38;5;132;01m}\u001b[39;00m\u001b[38;5;124m'\u001b[39m\u001b[38;5;124m sizes: \u001b[39m\u001b[38;5;132;01m{\u001b[39;00msizes\u001b[38;5;132;01m}\u001b[39;00m\u001b[38;5;130;01m\\n\u001b[39;00m\u001b[38;5;124m\"\u001b[39m\n\u001b[1;32m--> 114\u001b[0m \u001b[38;5;28;01mraise\u001b[39;00m \u001b[38;5;167;01mValueError\u001b[39;00m(msg)\n",
      "\u001b[1;31mValueError\u001b[0m: Data cardinality is ambiguous. Make sure all arrays contain the same number of samples.'x' sizes: 686905\n'y' sizes: 6182145\n"
     ]
    }
   ],
   "source": [
    "loss = model.evaluate(X_test_scaled, y_test_scaled)\n",
    "print(loss)"
   ]
  },
  {
   "cell_type": "code",
   "execution_count": 80,
   "metadata": {},
   "outputs": [
    {
     "data": {
      "text/plain": [
       "(686905, 1)"
      ]
     },
     "execution_count": 80,
     "metadata": {},
     "output_type": "execute_result"
    }
   ],
   "source": [
    "X_test_scaled.shape"
   ]
  },
  {
   "cell_type": "code",
   "execution_count": 81,
   "metadata": {},
   "outputs": [
    {
     "data": {
      "text/plain": [
       "(6182145,)"
      ]
     },
     "execution_count": 81,
     "metadata": {},
     "output_type": "execute_result"
    }
   ],
   "source": [
    "y_test_scaled.shape"
   ]
  },
  {
   "cell_type": "code",
   "execution_count": 77,
   "metadata": {},
   "outputs": [
    {
     "name": "stderr",
     "output_type": "stream",
     "text": [
      "WARNING:absl:You are saving your model as an HDF5 file via `model.save()` or `keras.saving.save_model(model)`. This file format is considered legacy. We recommend using instead the native Keras format, e.g. `model.save('my_model.keras')` or `keras.saving.save_model(model, 'my_model.keras')`. \n"
     ]
    }
   ],
   "source": [
    "model.save('model.h5')"
   ]
  },
  {
   "cell_type": "code",
   "execution_count": 78,
   "metadata": {},
   "outputs": [
    {
     "data": {
      "image/png": "[encoded data removed]",
      "text/plain": [
       "<Figure size 640x480 with 1 Axes>"
      ]
     },
     "metadata": {},
     "output_type": "display_data"
    }
   ],
   "source": [
    "import matplotlib.pyplot as plt\n",
    "\n",
    "\n",
    "plt.plot(history.history['loss'])\n",
    "plt.plot(history.history['val_loss'])\n",
    "plt.title('Model loss')\n",
    "plt.ylabel('Loss')\n",
    "plt.xlabel('Epoch')\n",
    "plt.legend(['Train', 'Validation'], loc='upper left')\n",
    "plt.show()"
   ]
  },
  {
   "cell_type": "code",
   "execution_count": 93,
   "metadata": {},
   "outputs": [
    {
     "name": "stdout",
     "output_type": "stream",
     "text": [
      "\u001b[1m1/1\u001b[0m \u001b[32m━━━━━━━━━━━━━━━━━━━━\u001b[0m\u001b[37m\u001b[0m \u001b[1m0s\u001b[0m 21ms/step\n",
      "[[-0.00071763]\n",
      " [-0.00071763]\n",
      " [-0.00071763]\n",
      " [-0.00071763]\n",
      " [-0.00071763]\n",
      " [-0.00071763]\n",
      " [-0.00071763]\n",
      " [-0.00071763]\n",
      " [-0.00071763]\n",
      " [-0.00071763]\n",
      " [-0.00071763]\n",
      " [-0.00071763]]\n",
      "----------------------------\n",
      "[[41.797314]\n",
      " [41.797314]\n",
      " [41.797314]\n",
      " [41.797314]\n",
      " [41.797314]\n",
      " [41.797314]\n",
      " [41.797314]\n",
      " [41.797314]\n",
      " [41.797314]\n",
      " [41.797314]\n",
      " [41.797314]\n",
      " [41.797314]]\n"
     ]
    },
    {
     "name": "stderr",
     "output_type": "stream",
     "text": [
      "c:\\GPU_Code\\tf-env\\Lib\\site-packages\\tensorflow\\python\\data\\ops\\structured_function.py:258: UserWarning: Even though the `tf.config.experimental_run_functions_eagerly` option is set, this option does not apply to tf.data functions. To force eager execution of tf.data functions, please use `tf.data.experimental.enable_debug_mode()`.\n",
      "  warnings.warn(\n"
     ]
    }
   ],
   "source": [
    "# scaler = StandardScaler()\n",
    "\n",
    "scaler = joblib.load('scaler_y.pkl')\n",
    "\n",
    "user_input = pd.DataFrame({\n",
    "    'PM2.5': [81],\n",
    "    'PM10': [124],\n",
    "    'NO': [1.44],\n",
    "    'NO2': [20],\n",
    "    'NOx': [12],\n",
    "    'NH3': [10],\n",
    "    'CO': [0.1],\n",
    "    'SO2': [15],\n",
    "    'O3': [127],\n",
    "    'Benzene': [0.20],\n",
    "    'Toluene': [6],\n",
    "    'Xylene': [0.06]\n",
    "})\n",
    "\n",
    "\n",
    "user_input_scaled = scaler.transform(user_input.values.reshape(-1, 1))\n",
    "\n",
    "user_pred = model.predict(user_input_scaled)\n",
    "\n",
    "actual_pred = scaler.inverse_transform(user_pred)\n",
    "\n",
    "print(user_pred)\n",
    "\n",
    "print(\"----------------------------\")\n",
    "\n",
    "print(actual_pred)"
   ]
  }
 ],
 "metadata": {
  "kernelspec": {
   "display_name": "tf-env",
   "language": "python",
   "name": "python3"
  },
  "language_info": {
   "codemirror_mode": {
    "name": "ipython",
    "version": 3
   },
   "file_extension": ".py",
   "mimetype": "text/x-python",
   "name": "python",
   "nbconvert_exporter": "python",
   "pygments_lexer": "ipython3",
   "version": "3.12.7"
  }
 },
 "nbformat": 4,
 "nbformat_minor": 2
}
