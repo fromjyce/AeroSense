{
 "cells": [
  {
   "cell_type": "code",
   "execution_count": null,
   "metadata": {},
   "outputs": [],
   "source": [
    "import pandas as pd\n",
    "import numpy as np\n",
    "from sklearnex import patch_sklearn, config_context\n",
    "patch_sklearn()\n",
    "from sklearn.preprocessing import StandardScaler, OneHotEncoder\n",
    "from sklearn.compose import ColumnTransformer\n",
    "from sklearn.model_selection import train_test_split\n",
    "from tensorflow.keras.models import Sequential\n",
    "from tensorflow.keras.layers import LSTM, Dense, Input, Concatenate\n",
    "from tensorflow.keras.models import Model\n",
    "import matplotlib.pyplot as plt\n",
    "import intel_extension_for_tensorflow as itex\n",
    "from tensorflow.python.framework.ops import disable_eager_execution\n",
    "disable_eager_execution()"
   ]
  },
  {
   "cell_type": "code",
   "execution_count": null,
   "metadata": {},
   "outputs": [],
   "source": [
    "df = pd.read_csv(\"station_hour.csv\")\n",
    "df['Datetime'] = pd.to_datetime(df['Datetime'])"
   ]
  },
  {
   "cell_type": "code",
   "execution_count": null,
   "metadata": {},
   "outputs": [],
   "source": [
    "df['Month'] = df['Datetime'].dt.month\n",
    "df['Year'] = df['Datetime'].dt.year\n",
    "df['Hour'] = df['Datetime'].dt.hour\n",
    "df['Minute'] = df['Datetime'].dt.minute"
   ]
  },
  {
   "cell_type": "code",
   "execution_count": null,
   "metadata": {},
   "outputs": [],
   "source": [
    "df = df.drop(columns=['NH3', 'Toluene', 'Xylene', 'AQI', 'AQI_Bucket'], axis=1)"
   ]
  },
  {
   "cell_type": "code",
   "execution_count": null,
   "metadata": {},
   "outputs": [],
   "source": [
    "columns_to_fill = ['PM2.5','PM10', 'NO', 'NO2', 'NOx', 'CO', 'SO2', 'O3', 'Benzene']\n",
    "df[columns_to_fill] = df[columns_to_fill].fillna(df[columns_to_fill].mean())"
   ]
  },
  {
   "cell_type": "code",
   "execution_count": null,
   "metadata": {},
   "outputs": [],
   "source": [
    "time_features = ['Month', 'Year', 'Hour', 'Minute']\n",
    "features = ['PM2.5','PM10', 'NO', 'NO2', 'NOx', 'CO', 'SO2', 'O3', 'Benzene']"
   ]
  },
  {
   "cell_type": "code",
   "execution_count": null,
   "metadata": {},
   "outputs": [],
   "source": [
    "preprocessor = ColumnTransformer(\n",
    "    transformers=[\n",
    "        ('num', StandardScaler(), time_features + features),\n",
    "        ('cat', OneHotEncoder(sparse_output=False, handle_unknown='ignore'), ['StationId'])\n",
    "    ])"
   ]
  },
  {
   "cell_type": "code",
   "execution_count": null,
   "metadata": {},
   "outputs": [],
   "source": [
    "X = preprocessor.fit_transform(df)"
   ]
  },
  {
   "cell_type": "code",
   "execution_count": null,
   "metadata": {},
   "outputs": [],
   "source": [
    "def create_sequences(data, seq_length):\n",
    "    X, y = [], []\n",
    "    for i in range(len(data) - seq_length):\n",
    "        X.append(data[i:(i + seq_length)])\n",
    "        y.append(data[i + seq_length, -len(features):])\n",
    "    return np.array(X), np.array(y)\n",
    "\n",
    "seq_length = 24\n",
    "X_seq, y_seq = create_sequences(X, seq_length)"
   ]
  },
  {
   "cell_type": "code",
   "execution_count": null,
   "metadata": {},
   "outputs": [],
   "source": [
    "X_train, X_test, y_train, y_test = train_test_split(X_seq, y_seq, test_size=0.2, random_state=42)"
   ]
  },
  {
   "cell_type": "code",
   "execution_count": null,
   "metadata": {},
   "outputs": [],
   "source": [
    "input_shape = X_train.shape[1:]\n",
    "model = Sequential([\n",
    "    LSTM(64, activation='relu', input_shape=input_shape, return_sequences=True),\n",
    "    LSTM(32, activation='relu'),\n",
    "    Dense(len(features))\n",
    "])\n",
    "\n",
    "itex_model = itex.optimize(model)"
   ]
  },
  {
   "cell_type": "code",
   "execution_count": null,
   "metadata": {},
   "outputs": [],
   "source": [
    "with config_context(target_offload=\"gpu:0\"):\n",
    "    itex_model.compile(optimizer='adam', loss='mse')\n",
    "    itex_model.fit(X_train, y_train, epochs=50, batch_size=32, validation_split=0.1, verbose=1)"
   ]
  },
  {
   "cell_type": "code",
   "execution_count": null,
   "metadata": {},
   "outputs": [],
   "source": [
    "itex_model.save('lstm_hourly_model.h5')"
   ]
  },
  {
   "cell_type": "code",
   "execution_count": null,
   "metadata": {},
   "outputs": [],
   "source": [
    "from datetime import datetime, timedelta\n",
    "\n",
    "features = ['PM2.5','PM10', 'NO', 'NO2', 'NOx', 'CO', 'SO2', 'O3', 'Benzene']\n",
    "time_features = ['Month', 'Year', 'Hour', 'Minute']\n",
    "\n",
    "def predict_future(model, preprocessor, last_sequence, station, future_datetime, num_hours=24):\n",
    "    future_datetimes = [future_datetime + timedelta(hours=i) for i in range(num_hours)]\n",
    "    last_sequence_df = pd.DataFrame(last_sequence, columns=time_features + features)\n",
    "    last_sequence_df['StationId'] = station\n",
    "    last_sequence_transformed = preprocessor.transform(last_sequence_df)\n",
    "    current_sequence = last_sequence_transformed[-seq_length:]\n",
    "\n",
    "    future_predictions = []\n",
    "\n",
    "    for future_dt in future_datetimes:\n",
    "        next_input = np.zeros((1, seq_length, current_sequence.shape[1]))\n",
    "        next_input[0, :-1, :] = current_sequence[1:]\n",
    "        time_features_next = [future_dt.month, future_dt.year, future_dt.hour, future_dt.minute]\n",
    "        next_input[0, -1, :len(time_features)] = preprocessor.named_transformers_['num'].transform([time_features_next + [0]*len(features)])[0, :len(time_features)]\n",
    "        station_cols = preprocessor.named_transformers_['cat'].transform([[station]])\n",
    "        next_input[0, -1, len(time_features) + len(features):] = station_cols\n",
    "        prediction = model.predict(next_input)\n",
    "        future_predictions.append(prediction[0])\n",
    "        current_sequence = next_input[0]\n",
    "        current_sequence[-1, len(time_features):-len(station_cols[0])] = prediction[0]\n",
    "\n",
    "    future_predictions = np.array(future_predictions)\n",
    "    future_predictions_inv = preprocessor.named_transformers_['num'].inverse_transform(\n",
    "    np.column_stack((np.zeros((len(future_predictions), len(time_features))), future_predictions)))[:, -len(features):]\n",
    "\n",
    "    return future_predictions_inv, future_datetimes\n"
   ]
  },
  {
   "cell_type": "code",
   "execution_count": null,
   "metadata": {},
   "outputs": [],
   "source": [
    "station = 'AP001'\n",
    "future_date = '2024-09-27'\n",
    "future_time = '12:00:00'\n",
    "\n",
    "future_datetime = datetime.strptime(f\"{future_date} {future_time}\", \"%Y-%m-%d %H:%M:%S\")"
   ]
  },
  {
   "cell_type": "code",
   "execution_count": null,
   "metadata": {},
   "outputs": [],
   "source": [
    "df = pd.read_csv(\"station_hour.csv\")\n",
    "\n",
    "last_sequence = df[df['StationId'] == station].sort_values('Datetime').iloc[-seq_length:]\n",
    "last_sequence = last_sequence[time_features + features].values\n"
   ]
  },
  {
   "cell_type": "code",
   "execution_count": null,
   "metadata": {},
   "outputs": [],
   "source": [
    "future_predictions, prediction_datetimes = predict_future(model, preprocessor, last_sequence, station, future_datetime)"
   ]
  },
  {
   "cell_type": "code",
   "execution_count": null,
   "metadata": {},
   "outputs": [],
   "source": [
    "future_df = pd.DataFrame(future_predictions, columns=features, index=prediction_datetimes)"
   ]
  },
  {
   "cell_type": "code",
   "execution_count": null,
   "metadata": {},
   "outputs": [],
   "source": [
    "print(future_df)\n",
    "\n",
    "specific_prediction = future_df.loc[future_datetime]\n",
    "print(f\"\\nPrediction for {future_datetime} at station {station}:\")\n",
    "for feature, value in specific_prediction.items():\n",
    "    print(f\"{feature}: {value:.2f}\")"
   ]
  }
 ],
 "metadata": {
  "kernelspec": {
   "display_name": "Python 3",
   "language": "python",
   "name": "python3"
  },
  "language_info": {
   "name": "python",
   "version": "3.11.9"
  }
 },
 "nbformat": 4,
 "nbformat_minor": 2
}
