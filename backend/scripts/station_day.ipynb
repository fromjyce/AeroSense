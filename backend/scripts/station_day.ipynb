{
 "cells": [
  {
   "cell_type": "code",
   "execution_count": null,
   "metadata": {},
   "outputs": [],
   "source": [
    "import pandas as pd\n",
    "import numpy as np\n",
    "from sklearnex import patch_sklearn, config_context\n",
    "patch_sklearn()\n",
    "from sklearn.preprocessing import StandardScaler\n",
    "from sklearn.model_selection import train_test_split\n",
    "from tensorflow.keras.models import Sequential\n",
    "from tensorflow.keras.layers import LSTM, Dense, Input, Concatenate\n",
    "from tensorflow.keras.models import Model\n",
    "from tensorflow.keras.utils import to_categorical\n",
    "import matplotlib.pyplot as plt\n",
    "import intel_extension_for_tensorflow as itex\n",
    "from tensorflow.python.framework.ops import disable_eager_execution\n",
    "disable_eager_execution()"
   ]
  },
  {
   "cell_type": "code",
   "execution_count": null,
   "metadata": {},
   "outputs": [],
   "source": [
    "df = pd.read_csv('station_day.csv')\n",
    "df['Date'] = pd.to_datetime(df['Date'])\n",
    "df['DayOfYear'] = df['Date'].dt.dayofyear\n",
    "df['Month'] = df['Date'].dt.month\n",
    "df['Year'] = df['Date'].dt.year\n",
    "\n",
    "#['PM2.5','PM10', 'NO', 'NO2', 'NOx', 'CO', 'SO2', 'O3', 'Benzene','AQI']"
   ]
  },
  {
   "cell_type": "code",
   "execution_count": null,
   "metadata": {},
   "outputs": [],
   "source": [
    "df = df.drop(columns=['NH3', 'Toluene', 'Xylene', 'AQI', 'AQI_Bucket'], axis=1)"
   ]
  },
  {
   "cell_type": "code",
   "execution_count": null,
   "metadata": {},
   "outputs": [],
   "source": [
    "columns_to_fill = ['PM2.5','PM10', 'NO', 'NO2', 'NOx', 'CO', 'SO2', 'O3', 'Benzene']\n",
    "df[columns_to_fill] = df[columns_to_fill].fillna(df[columns_to_fill].mean())"
   ]
  },
  {
   "cell_type": "code",
   "execution_count": null,
   "metadata": {},
   "outputs": [],
   "source": [
    "features = ['PM2.5','PM10', 'NO', 'NO2', 'NOx', 'CO', 'SO2', 'O3', 'Benzene']\n",
    "scaler = StandardScaler()\n",
    "df[features] = scaler.fit_transform(df[features])"
   ]
  },
  {
   "cell_type": "code",
   "execution_count": null,
   "metadata": {},
   "outputs": [],
   "source": [
    "df[['DayOfYear', 'Month', 'Year']] = scaler.fit_transform(df[['DayOfYear', 'Month', 'Year']])"
   ]
  },
  {
   "cell_type": "code",
   "execution_count": null,
   "metadata": {},
   "outputs": [],
   "source": [
    "stations = df['StationId'].unique()\n",
    "stations_to_index = {station: index for index, station in enumerate(stations)}\n",
    "df['StationIndex'] = df['StationId'].map(stations_to_index)\n",
    "num_stations= len(stations)"
   ]
  },
  {
   "cell_type": "code",
   "execution_count": null,
   "metadata": {},
   "outputs": [],
   "source": [
    "def create_sequences(data, station_data, seq_length):\n",
    "    X, y, X_station = [], [], []\n",
    "    for i in range(len(data) - seq_length):\n",
    "        X.append(data[i:(i + seq_length), :])\n",
    "        y.append(data[i + seq_length, :len(features)])\n",
    "        X_station.append(station_data[i + seq_length])\n",
    "    return np.array(X), np.array(y), np.array(X_station)\n"
   ]
  },
  {
   "cell_type": "code",
   "execution_count": null,
   "metadata": {},
   "outputs": [],
   "source": [
    "seq_length = 30\n",
    "X, y, X_station = create_sequences(df[features + ['DayOfYear', 'Month', 'Year']].values,\n",
    "                                   df['StationIndex'].values,\n",
    "                                   seq_length)"
   ]
  },
  {
   "cell_type": "code",
   "execution_count": null,
   "metadata": {},
   "outputs": [],
   "source": [
    "X_station = to_categorical(X_station, num_classes=num_stations)"
   ]
  },
  {
   "cell_type": "code",
   "execution_count": null,
   "metadata": {},
   "outputs": [],
   "source": [
    "X_train, X_test, y_train, y_test, X_station_train, X_station_test = train_test_split(X, y, X_station, test_size=0.2, random_state=42)"
   ]
  },
  {
   "cell_type": "code",
   "execution_count": null,
   "metadata": {},
   "outputs": [],
   "source": [
    "input_seq = Input(shape=(seq_length, X.shape[2]))\n",
    "input_station = Input(shape=(num_stations,))\n",
    "\n",
    "lstm_out = LSTM(64, activation='relu', return_sequences=True)(input_seq)\n",
    "lstm_out = LSTM(32, activation='relu')(lstm_out)\n",
    "\n",
    "concat = Concatenate()([lstm_out, input_station])\n",
    "dense = Dense(32, activation='relu')(concat)\n",
    "output = Dense(len(features))(dense)\n",
    "\n",
    "model = Model(inputs=[input_seq, input_station], outputs=output)\n",
    "model.compile(optimizer='adam', loss='mse')\n",
    "itex_model = itex.optimize(model)"
   ]
  },
  {
   "cell_type": "code",
   "execution_count": null,
   "metadata": {},
   "outputs": [],
   "source": [
    "with config_context(target_offload=\"gpu:0\"):\n",
    "    history = itex_model.fit(\n",
    "        [X_train, X_station_train], y_train,\n",
    "        epochs=100,\n",
    "        batch_size=32,\n",
    "        validation_split=0.1,\n",
    "        verbose=1\n",
    "    )"
   ]
  },
  {
   "cell_type": "code",
   "execution_count": null,
   "metadata": {},
   "outputs": [],
   "source": [
    "itex_model.save('my_model.h5')"
   ]
  },
  {
   "cell_type": "code",
   "execution_count": null,
   "metadata": {},
   "outputs": [],
   "source": [
    "scaler = StandardScaler()\n",
    "df = pd.read_csv('station_day.csv')\n",
    "stations = df['StationId'].unique()\n",
    "stations_to_index = {station: index for index, station in enumerate(stations)}\n",
    "\n",
    "def predict_future(model, last_sequence, future_date, station):\n",
    "    input_seq = last_sequence.copy()\n",
    "    future_day = future_date.dayofyear\n",
    "    future_month = future_date.month\n",
    "    future_year = future_date.year\n",
    "    scaled_future_date = scaler.transform([[future_day, future_month, future_year]])[0]\n",
    "    input_seq[-1, -3:] = scaled_future_date\n",
    "    station_index = stations_to_index[station]\n",
    "    station_one_hot = to_categorical([station_index], num_classes=num_stations)\n",
    "    prediction = model.predict([input_seq.reshape(1, seq_length, -1), station_one_hot])\n",
    "    return scaler.inverse_transform(prediction)[0]"
   ]
  },
  {
   "cell_type": "code",
   "execution_count": null,
   "metadata": {},
   "outputs": [],
   "source": [
    "features = ['PM2.5','PM10', 'NO', 'NO2', 'NOx', 'CO', 'SO2', 'O3', 'Benzene']\n",
    "seq_length = 30\n",
    "\n",
    "last_sequence = df[features + ['DayOfYear', 'Month', 'Year']].values[-seq_length:]"
   ]
  },
  {
   "cell_type": "code",
   "execution_count": null,
   "metadata": {},
   "outputs": [],
   "source": [
    "future_date = pd.Timestamp('2025-10-05')\n",
    "station = 'AP001'"
   ]
  },
  {
   "cell_type": "code",
   "execution_count": null,
   "metadata": {},
   "outputs": [],
   "source": [
    "from tensorflow.keras.models import load_model\n",
    "\n",
    "loaded_model = load_model('my_model.h5')"
   ]
  },
  {
   "cell_type": "code",
   "execution_count": null,
   "metadata": {},
   "outputs": [],
   "source": [
    "future_prediction = predict_future(loaded_model, last_sequence, future_date, station)"
   ]
  },
  {
   "cell_type": "code",
   "execution_count": null,
   "metadata": {},
   "outputs": [],
   "source": [
    "result_df = pd.DataFrame([future_prediction], columns=features, index=[future_date])\n",
    "print(f\"Predicted values for {future_date.date()} at Station ID {station}:\")\n",
    "print(result_df)"
   ]
  }
 ],
 "metadata": {
  "kernelspec": {
   "display_name": "Python 3",
   "language": "python",
   "name": "python3"
  },
  "language_info": {
   "name": "python",
   "version": "3.11.9"
  }
 },
 "nbformat": 4,
 "nbformat_minor": 2
}
